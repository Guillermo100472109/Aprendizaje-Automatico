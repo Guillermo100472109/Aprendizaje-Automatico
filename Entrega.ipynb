{
  "nbformat": 4,
  "nbformat_minor": 0,
  "metadata": {
    "colab": {
      "provenance": [],
      "toc_visible": true,
      "authorship_tag": "ABX9TyNUxcbPgA4F9mv7NZXAmorI",
      "include_colab_link": true
    },
    "kernelspec": {
      "name": "python3",
      "display_name": "Python 3"
    },
    "language_info": {
      "name": "python"
    }
  },
  "cells": [
    {
      "cell_type": "markdown",
      "metadata": {
        "id": "view-in-github",
        "colab_type": "text"
      },
      "source": [
        "<a href=\"https://colab.research.google.com/github/Guillermo100472109/Aprendizaje-Automatico/blob/main/Entrega.ipynb\" target=\"_parent\"><img src=\"https://colab.research.google.com/assets/colab-badge.svg\" alt=\"Open In Colab\"/></a>"
      ]
    },
    {
      "cell_type": "markdown",
      "source": [
        "# EDA\n",
        "Realice un EDA simplificado, principalmente para determinar cúantas variables e instancias hay, qué\n",
        "variables son categóricas/ordinales/numéricas, si hay variables categóricas con alta cardinalidad, qué\n",
        "variables tienen valores faltantes y cuántos, si hay columnas constantes o columnas de ID, y si se trata\n",
        "de un problema de regresión o clasificación. Si es esto último, ¿está desbalanceado?\n",
        "Este EDA se utilizará como guía cuando haya que llevar a cabo el preproceso de los datos.\n",
        "https://www.kaggle.com/code/imoore/intro-to-exploratory-data-analysis-eda-in-python"
      ],
      "metadata": {
        "id": "z7Iy1CaPvfMX"
      }
    },
    {
      "cell_type": "code",
      "execution_count": null,
      "metadata": {
        "id": "8mJL3UAnvTRa"
      },
      "outputs": [],
      "source": []
    },
    {
      "cell_type": "markdown",
      "source": [],
      "metadata": {
        "id": "x2H5k1Puvdwn"
      }
    },
    {
      "cell_type": "markdown",
      "source": [
        "# Elección de  Evalución"
      ],
      "metadata": {
        "id": "KzivsW-twLKA"
      }
    },
    {
      "cell_type": "markdown",
      "source": [
        "# Métodos Básicos: KNN y Trees"
      ],
      "metadata": {
        "id": "cq_m3NomwgHe"
      }
    },
    {
      "cell_type": "markdown",
      "source": [
        "# Avanzados: Modelos Lineales y SVMS"
      ],
      "metadata": {
        "id": "eZeqAgu4woyw"
      }
    },
    {
      "cell_type": "markdown",
      "source": [
        "# Resultados y modelo final"
      ],
      "metadata": {
        "id": "IZStw6VYwzKe"
      }
    },
    {
      "cell_type": "markdown",
      "source": [
        "# Elección abierta\n"
      ],
      "metadata": {
        "id": "RCd3gW3cw2vr"
      }
    }
  ]
}