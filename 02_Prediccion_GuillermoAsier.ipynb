{
 "cells": [
  {
   "cell_type": "code",
   "execution_count": 2,
   "metadata": {},
   "outputs": [
    {
     "name": "stdout",
     "output_type": "stream",
     "text": [
      "Cargando modelo final...\n",
      "Cargando datos de competición...\n",
      "Preprocesando datos...\n",
      "Realizando predicciones...\n",
      "Guardando resultados...\n",
      " Resultados guardados en 'predicciones_GuillermoAsier.csv'\n"
     ]
    }
   ],
   "source": [
    "import pandas as pd\n",
    "import joblib\n",
    "from sklearn.preprocessing import LabelEncoder\n",
    "\n",
    "# 1. Cargar el modelo entrenado\n",
    "print(\"Cargando modelo final...\")\n",
    "modelo_final = joblib.load('modelo_final_GuillermoAsier.pkl')\n",
    "\n",
    "# 2. Cargar datos de competición (ajustar la ruta según sea necesario)\n",
    "print(\"Cargando datos de competición...\")\n",
    "datos_competencia = pd.read_csv('attrition_competition_09.csv')  # Cambiar por la ruta correcta\n",
    "\n",
    "# 3. Preprocesamiento (debe ser IDÉNTICO al usado en entrenamiento)\n",
    "print(\"Preprocesando datos...\")\n",
    "# Eliminar mismas columnas que en el entrenamiento\n",
    "datos_competencia = datos_competencia.drop(['Gender', 'EmployeeCount', 'Over18', 'EmployeeID', 'StandardHours'], axis=1, errors='ignore')\n",
    "\n",
    "# Convertir variables categóricas (one-hot encoding)\n",
    "datos_competencia = pd.get_dummies(datos_competencia)\n",
    "\n",
    "# 4. Hacer predicciones\n",
    "print(\"Realizando predicciones...\")\n",
    "predicciones = modelo_final.predict(datos_competencia)\n",
    "\n",
    "# 5. Decodificar predicciones (si es necesario)\n",
    "# (Asumiendo que Attrition era 'Yes'/'No' originalmente)\n",
    "predicciones_decodificadas = ['Yes' if pred == 1 else 'No' for pred in predicciones]\n",
    "\n",
    "# 6. Guardar resultados\n",
    "print(\"Guardando resultados...\")\n",
    "resultados = pd.DataFrame({\n",
    "    'EmployeeID': datos_competencia.index,  \n",
    "    'Attrition': predicciones_decodificadas\n",
    "})\n",
    "resultados.to_csv('predicciones_GuillermoAsier.csv', index=False)\n",
    "\n",
    "print(\" Resultados guardados en 'predicciones_GuillermoAsier.csv'\")"
   ]
  }
 ],
 "metadata": {
  "kernelspec": {
   "display_name": ".venv",
   "language": "python",
   "name": "python3"
  },
  "language_info": {
   "codemirror_mode": {
    "name": "ipython",
    "version": 3
   },
   "file_extension": ".py",
   "mimetype": "text/x-python",
   "name": "python",
   "nbconvert_exporter": "python",
   "pygments_lexer": "ipython3",
   "version": "3.12.3"
  }
 },
 "nbformat": 4,
 "nbformat_minor": 2
}
